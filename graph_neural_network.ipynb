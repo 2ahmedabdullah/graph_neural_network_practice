{
  "nbformat": 4,
  "nbformat_minor": 0,
  "metadata": {
    "colab": {
      "provenance": [],
      "collapsed_sections": []
    },
    "kernelspec": {
      "name": "python3",
      "display_name": "Python 3"
    },
    "language_info": {
      "name": "python"
    }
  },
  "cells": [
    {
      "cell_type": "code",
      "execution_count": 1,
      "metadata": {
        "id": "MCk99z9v7xjO"
      },
      "outputs": [],
      "source": [
        "import networkx as nx\n",
        "import matplotlib.pyplot as plt"
      ]
    },
    {
      "cell_type": "markdown",
      "source": [
        "## **`Undirected-Unweighted-Graph`**"
      ],
      "metadata": {
        "id": "xyDg_pX29zbZ"
      }
    },
    {
      "cell_type": "code",
      "source": [
        "G = nx.Graph()\n",
        "G.add_edge(1, 2)\n",
        "G.add_edge(3, 2)\n",
        "nx.draw(G, cmap = plt.get_cmap('viridis'), node_color = G, with_labels = True)\n",
        "print('Weighted:',nx.is_weighted(G))\n",
        "print('Directed:', nx.is_directed(G))"
      ],
      "metadata": {
        "colab": {
          "base_uri": "https://localhost:8080/",
          "height": 356
        },
        "id": "QARdPqJ28AKu",
        "outputId": "c4d4e3a5-230d-4589-b9bb-6bf9871098b1"
      },
      "execution_count": 2,
      "outputs": [
        {
          "output_type": "stream",
          "name": "stdout",
          "text": [
            "Weighted: False\n",
            "Directed: False\n"
          ]
        },
        {
          "output_type": "display_data",
          "data": {
            "text/plain": [
              "<Figure size 432x288 with 1 Axes>"
            ],
            "image/png": "[encoded data removed]"
          },
          "metadata": {}
        }
      ]
    },
    {
      "cell_type": "code",
      "source": [
        "nx.to_numpy_matrix(G)"
      ],
      "metadata": {
        "colab": {
          "base_uri": "https://localhost:8080/"
        },
        "id": "6aBvXdyl8IMe",
        "outputId": "ea9fa716-af3e-4276-8263-808f6585a0d6"
      },
      "execution_count": 3,
      "outputs": [
        {
          "output_type": "execute_result",
          "data": {
            "text/plain": [
              "matrix([[0., 1., 0.],\n",
              "        [1., 0., 1.],\n",
              "        [0., 1., 0.]])"
            ]
          },
          "metadata": {},
          "execution_count": 3
        }
      ]
    },
    {
      "cell_type": "markdown",
      "source": [
        "## **Undirected-Weighted-Graph**"
      ],
      "metadata": {
        "id": "_2htCOOm-KHd"
      }
    },
    {
      "cell_type": "code",
      "source": [
        "G = nx.Graph()\n",
        "G.add_edge(1, 2, weight=1)\n",
        "G.add_edge(3, 2, weight=5)\n",
        "# Adding it later\n",
        "G.add_edge(3,3, weight=3)\n",
        "G.add_edge(2,2, weight=6)\n",
        "G.add_edge(1,1, weight=9)\n",
        "nx.draw(G, cmap=plt.get_cmap('viridis'), node_color=G, with_labels=True)\n",
        "print('Weighted:',nx.is_weighted(G))\n",
        "print('Directed:', nx.is_directed(G))"
      ],
      "metadata": {
        "colab": {
          "base_uri": "https://localhost:8080/",
          "height": 356
        },
        "id": "HU9NQHKr8wiG",
        "outputId": "96dfea08-9b88-4501-fdc3-31bcd73e1976"
      },
      "execution_count": 4,
      "outputs": [
        {
          "output_type": "stream",
          "name": "stdout",
          "text": [
            "Weighted: True\n",
            "Directed: False\n"
          ]
        },
        {
          "output_type": "display_data",
          "data": {
            "text/plain": [
              "<Figure size 432x288 with 1 Axes>"
            ],
            "image/png": "[encoded data removed]"
          },
          "metadata": {}
        }
      ]
    },
    {
      "cell_type": "code",
      "source": [
        "nx.to_numpy_matrix(G)"
      ],
      "metadata": {
        "colab": {
          "base_uri": "https://localhost:8080/"
        },
        "id": "9fdx8E428wlm",
        "outputId": "e290f339-35ef-4513-dcf7-6d3aac347ada"
      },
      "execution_count": 5,
      "outputs": [
        {
          "output_type": "execute_result",
          "data": {
            "text/plain": [
              "matrix([[9., 1., 0.],\n",
              "        [1., 6., 5.],\n",
              "        [0., 5., 3.]])"
            ]
          },
          "metadata": {},
          "execution_count": 5
        }
      ]
    },
    {
      "cell_type": "markdown",
      "source": [
        "**Incidence Matrix**"
      ],
      "metadata": {
        "id": "Sx5BWusX9uXQ"
      }
    },
    {
      "cell_type": "code",
      "source": [
        "I = nx.incidence_matrix(G)\n",
        "print('data:',I.data)\n",
        "print('\\n')\n",
        "print(I.todense())"
      ],
      "metadata": {
        "colab": {
          "base_uri": "https://localhost:8080/"
        },
        "id": "7vdbCGeU8woy",
        "outputId": "e1bbe9a2-e622-4825-82a7-44517fa7fd43"
      },
      "execution_count": 6,
      "outputs": [
        {
          "output_type": "stream",
          "name": "stdout",
          "text": [
            "data: [1. 1. 1. 1.]\n",
            "\n",
            "\n",
            "[[1. 0. 0. 0. 0.]\n",
            " [1. 0. 1. 0. 0.]\n",
            " [0. 0. 1. 0. 0.]]\n"
          ]
        }
      ]
    },
    {
      "cell_type": "markdown",
      "source": [
        "**Adjency Matrix**"
      ],
      "metadata": {
        "id": "qclG1m08-nC4"
      }
    },
    {
      "cell_type": "code",
      "source": [
        "A = nx.adjacency_matrix(G)\n",
        "print('data:',A.data)\n",
        "print('\\n')\n",
        "print(A.todense())"
      ],
      "metadata": {
        "colab": {
          "base_uri": "https://localhost:8080/"
        },
        "id": "YYuvxELu8wrp",
        "outputId": "c801d410-7b26-4e9e-a5eb-ca5590aeae9e"
      },
      "execution_count": 7,
      "outputs": [
        {
          "output_type": "stream",
          "name": "stdout",
          "text": [
            "data: [9 1 1 6 5 5 3]\n",
            "\n",
            "\n",
            "[[9 1 0]\n",
            " [1 6 5]\n",
            " [0 5 3]]\n"
          ]
        }
      ]
    },
    {
      "cell_type": "markdown",
      "source": [
        "**Laplacian Matrix**"
      ],
      "metadata": {
        "id": "UNTRlf8mB_Mw"
      }
    },
    {
      "cell_type": "code",
      "source": [
        "# L= D-A\n",
        "# D is Degree Matrix\n",
        "# for Laplacian Matrix you can not use the directed graph\n",
        "\n",
        "L = nx.laplacian_matrix(G)\n",
        "print(L.data)\n",
        "print('\\n')\n",
        "print(L.todense())"
      ],
      "metadata": {
        "colab": {
          "base_uri": "https://localhost:8080/"
        },
        "id": "F_Dt_si0B_fn",
        "outputId": "a4b1f72b-1ed0-405f-fb5d-e9701241d713"
      },
      "execution_count": 8,
      "outputs": [
        {
          "output_type": "stream",
          "name": "stdout",
          "text": [
            "[ 1 -1 -1  6 -5 -5  5]\n",
            "\n",
            "\n",
            "[[ 1 -1  0]\n",
            " [-1  6 -5]\n",
            " [ 0 -5  5]]\n"
          ]
        }
      ]
    },
    {
      "cell_type": "markdown",
      "source": [
        "## **Directed-Weighted-Graph**"
      ],
      "metadata": {
        "id": "6yFD66yr_AYA"
      }
    },
    {
      "cell_type": "code",
      "source": [
        "# nx.DiGraph() for Directed \n",
        "# nx.Graph() for Undirected\n",
        "# weight=0 for unweighted\n",
        "\n",
        "\n",
        "G = nx.DiGraph()\n",
        "G.add_edge(1, 2, weight=1)\n",
        "G.add_edge(3, 2, weight=5)\n",
        "G.add_edge(3, 1, weight=10)\n",
        "# Adding it later\n",
        "#G.add_edge(3,3)\n",
        "nx.draw(G, cmap=plt.get_cmap('viridis'), node_color=G, with_labels=True,)\n",
        "print('Weighted:',nx.is_weighted(G))\n",
        "print('Directed:', nx.is_directed(G))"
      ],
      "metadata": {
        "colab": {
          "base_uri": "https://localhost:8080/",
          "height": 356
        },
        "id": "TJMp5Fwl-r2H",
        "outputId": "2b0ea759-9f62-4ec3-e086-80f476bb125e"
      },
      "execution_count": 9,
      "outputs": [
        {
          "output_type": "stream",
          "name": "stdout",
          "text": [
            "Weighted: True\n",
            "Directed: True\n"
          ]
        },
        {
          "output_type": "display_data",
          "data": {
            "text/plain": [
              "<Figure size 432x288 with 1 Axes>"
            ],
            "image/png": "[encoded data removed]"
          },
          "metadata": {}
        }
      ]
    },
    {
      "cell_type": "code",
      "source": [
        "I = nx.incidence_matrix(G)\n",
        "print(I.data)\n",
        "print('\\n')\n",
        "print(I.todense())"
      ],
      "metadata": {
        "colab": {
          "base_uri": "https://localhost:8080/"
        },
        "id": "MkqUFYlz_D3L",
        "outputId": "2589dd06-a419-4e10-c23f-87b2bb1d2fb7"
      },
      "execution_count": 10,
      "outputs": [
        {
          "output_type": "stream",
          "name": "stdout",
          "text": [
            "[1. 1. 1. 1. 1. 1.]\n",
            "\n",
            "\n",
            "[[1. 0. 1.]\n",
            " [1. 1. 0.]\n",
            " [0. 1. 1.]]\n"
          ]
        }
      ]
    },
    {
      "cell_type": "code",
      "source": [
        "A = nx.adjacency_matrix(G)\n",
        "print(A.data)\n",
        "print('\\n')\n",
        "print(A.todense())"
      ],
      "metadata": {
        "colab": {
          "base_uri": "https://localhost:8080/"
        },
        "id": "TVIhuknLA_E7",
        "outputId": "0d33fdeb-9c5a-4242-d4da-329ac7a7e864"
      },
      "execution_count": 11,
      "outputs": [
        {
          "output_type": "stream",
          "name": "stdout",
          "text": [
            "[ 1 10  5]\n",
            "\n",
            "\n",
            "[[ 0  1  0]\n",
            " [ 0  0  0]\n",
            " [10  5  0]]\n"
          ]
        }
      ]
    },
    {
      "cell_type": "markdown",
      "source": [
        "# **Representing Graph**"
      ],
      "metadata": {
        "id": "85sKsNCiCbNq"
      }
    },
    {
      "cell_type": "code",
      "source": [
        "G = nx.Graph()\n",
        "G.add_edges_from(\n",
        "    [('A', 'B'), ('A', 'C'), ('D', 'B'), ('E', 'C'), ('E', 'F'),\n",
        "     ('B', 'H'), ('B', 'G'), ('B', 'F'), ('C', 'G')])\n",
        "\n",
        "val_map = {'A': 1.0,\n",
        "           'D': 0.5,\n",
        "           'F': 0.7,\n",
        "           'G': 0.9,\n",
        "           'H': 0.0}\n",
        "\n",
        "values = [val_map.get(node, .7) for node in G.nodes()]\n",
        "\n",
        "nx.draw(G, cmap=plt.get_cmap('viridis'), node_color=values, with_labels=True, font_color='white')\n",
        "plt.show()"
      ],
      "metadata": {
        "colab": {
          "base_uri": "https://localhost:8080/",
          "height": 319
        },
        "id": "lX5XeEpgBTSQ",
        "outputId": "3c8ef29d-7462-4291-ed98-a974ec7104e3"
      },
      "execution_count": 12,
      "outputs": [
        {
          "output_type": "display_data",
          "data": {
            "text/plain": [
              "<Figure size 432x288 with 1 Axes>"
            ],
            "image/png": "[encoded data removed]"
          },
          "metadata": {}
        }
      ]
    },
    {
      "cell_type": "code",
      "source": [
        "G = nx.Graph() \n",
        "G.add_edges_from(\n",
        "    [('A', 'B'), ('A', 'C'), ('B', 'D'), ('C', 'E'), ('C', 'F'),\n",
        "     ('E', 'F'), ('D', 'F'), ('B', 'B'), ('F', 'F')])\n",
        "\n",
        "val_map = {'A': 1.0,\n",
        "           'B': 2.0,\n",
        "           'C': 3.0,\n",
        "           'D': 4.0, 'E': 5.0, 'F': 6.0}\n",
        "\n",
        "values = [val_map.get(node, 0.25) for node in G.nodes()]\n",
        "nx.draw(G, cmap=plt.get_cmap('viridis'), with_labels=True, node_color=values, font_color='red')\n",
        "\n",
        "print(nx.is_weighted(G))\n",
        "print(nx.is_directed(G))"
      ],
      "metadata": {
        "colab": {
          "base_uri": "https://localhost:8080/",
          "height": 356
        },
        "id": "JUG8LhmEB5tN",
        "outputId": "bff06991-d839-4eeb-8e87-40b92818180b"
      },
      "execution_count": 13,
      "outputs": [
        {
          "output_type": "stream",
          "name": "stdout",
          "text": [
            "False\n",
            "False\n"
          ]
        },
        {
          "output_type": "display_data",
          "data": {
            "text/plain": [
              "<Figure size 432x288 with 1 Axes>"
            ],
            "image/png": "[encoded data removed]"
          },
          "metadata": {}
        }
      ]
    },
    {
      "cell_type": "code",
      "source": [
        "A = nx.adjacency_matrix(G)\n",
        "print(A.todense())"
      ],
      "metadata": {
        "colab": {
          "base_uri": "https://localhost:8080/"
        },
        "id": "AYf8KBNODGCd",
        "outputId": "bd868f70-fc96-4321-fb57-1b117f8ef7a4"
      },
      "execution_count": 14,
      "outputs": [
        {
          "output_type": "stream",
          "name": "stdout",
          "text": [
            "[[0 1 1 0 0 0]\n",
            " [1 1 0 1 0 0]\n",
            " [1 0 0 0 1 1]\n",
            " [0 1 0 0 0 1]\n",
            " [0 0 1 0 0 1]\n",
            " [0 0 1 1 1 1]]\n"
          ]
        }
      ]
    },
    {
      "cell_type": "code",
      "source": [
        "# Degree Matrix\n",
        "G.degree()"
      ],
      "metadata": {
        "colab": {
          "base_uri": "https://localhost:8080/"
        },
        "id": "4jkUAUpvEA9l",
        "outputId": "2f6f8a90-cfd2-4b0b-9a32-efe65f3a6188"
      },
      "execution_count": 15,
      "outputs": [
        {
          "output_type": "execute_result",
          "data": {
            "text/plain": [
              "DegreeView({'A': 2, 'B': 4, 'C': 3, 'D': 2, 'E': 2, 'F': 5})"
            ]
          },
          "metadata": {},
          "execution_count": 15
        }
      ]
    },
    {
      "cell_type": "code",
      "source": [
        "# L = (A- D) where D is degree matrix\n",
        "L = nx.laplacian_matrix(G)\n",
        "print(L.todense())"
      ],
      "metadata": {
        "colab": {
          "base_uri": "https://localhost:8080/"
        },
        "id": "D8kEKQDZDT1T",
        "outputId": "2c534efe-e8e4-47ec-e069-374b71370304"
      },
      "execution_count": 16,
      "outputs": [
        {
          "output_type": "stream",
          "name": "stdout",
          "text": [
            "[[ 2 -1 -1  0  0  0]\n",
            " [-1  2  0 -1  0  0]\n",
            " [-1  0  3  0 -1 -1]\n",
            " [ 0 -1  0  2  0 -1]\n",
            " [ 0  0 -1  0  2 -1]\n",
            " [ 0  0 -1 -1 -1  3]]\n"
          ]
        }
      ]
    },
    {
      "cell_type": "markdown",
      "source": [
        "# **DEEP WALK**"
      ],
      "metadata": {
        "id": "D-8tWx8vK4Sr"
      }
    },
    {
      "cell_type": "code",
      "source": [
        "import random\n",
        "def get_randomwalk(graph_val, node, path_length):\n",
        "    '''\n",
        "    graph_val=> GRAPH\n",
        "    node=> starting node\n",
        "    '''\n",
        "\n",
        "    \n",
        "    random_walk = [node]\n",
        "    \n",
        "    for i in range(path_length-1):\n",
        "        temp = list(graph_val.neighbors(node))\n",
        "        temp = list(set(temp) - set(random_walk))    \n",
        "        if len(temp) == 0:\n",
        "            break\n",
        "\n",
        "        random_node = random.choice(temp)\n",
        "        random_walk.append(random_node)\n",
        "        node = random_node\n",
        "        \n",
        "    return random_walk"
      ],
      "metadata": {
        "id": "QGfZxVB1DbKu"
      },
      "execution_count": 17,
      "outputs": []
    },
    {
      "cell_type": "code",
      "source": [
        "nx.draw(G, cmap=plt.get_cmap('viridis'), with_labels=True, node_color=values, font_color='red')"
      ],
      "metadata": {
        "colab": {
          "base_uri": "https://localhost:8080/",
          "height": 319
        },
        "id": "KJ4GAPDKLXr7",
        "outputId": "111292ca-1f97-4221-91b6-f9e0d32b27ee"
      },
      "execution_count": 18,
      "outputs": [
        {
          "output_type": "display_data",
          "data": {
            "text/plain": [
              "<Figure size 432x288 with 1 Axes>"
            ],
            "image/png": "[encoded data removed]"
          },
          "metadata": {}
        }
      ]
    },
    {
      "cell_type": "code",
      "source": [
        "get_randomwalk(G, 'E', 5)"
      ],
      "metadata": {
        "colab": {
          "base_uri": "https://localhost:8080/"
        },
        "id": "hNi0WB6EK-1K",
        "outputId": "a3b4237b-8358-4135-f0c8-b01156554aae"
      },
      "execution_count": 19,
      "outputs": [
        {
          "output_type": "execute_result",
          "data": {
            "text/plain": [
              "['E', 'C', 'A', 'B', 'D']"
            ]
          },
          "metadata": {},
          "execution_count": 19
        }
      ]
    },
    {
      "cell_type": "code",
      "source": [
        "get_randomwalk(G, 'E', 5)"
      ],
      "metadata": {
        "colab": {
          "base_uri": "https://localhost:8080/"
        },
        "id": "RnLhBSjgLC3U",
        "outputId": "9de3d486-76ef-4b45-92ef-d514c0a0a552"
      },
      "execution_count": 20,
      "outputs": [
        {
          "output_type": "execute_result",
          "data": {
            "text/plain": [
              "['E', 'F', 'C', 'A', 'B']"
            ]
          },
          "metadata": {},
          "execution_count": 20
        }
      ]
    },
    {
      "cell_type": "code",
      "source": [
        "from tqdm import tqdm\n",
        "# get list of all nodes from the graph\n",
        "all_nodes = list(G.nodes())\n",
        "print(all_nodes)\n",
        "\n",
        "random_walks = []\n",
        "for n in tqdm(all_nodes):\n",
        "    for i in range(10):\n",
        "        random_walks.append(get_randomwalk(G, n, i))\n",
        "\n",
        "print(random_walks)\n",
        "# count of sequences\n",
        "len(random_walks)"
      ],
      "metadata": {
        "colab": {
          "base_uri": "https://localhost:8080/"
        },
        "id": "ye-jhChTLRK3",
        "outputId": "498fc6a8-b867-470d-e178-f1c797c37bf3"
      },
      "execution_count": 21,
      "outputs": [
        {
          "output_type": "stream",
          "name": "stdout",
          "text": [
            "['A', 'B', 'C', 'D', 'E', 'F']\n"
          ]
        },
        {
          "output_type": "stream",
          "name": "stderr",
          "text": [
            "100%|██████████| 6/6 [00:00<00:00, 6877.79it/s]"
          ]
        },
        {
          "output_type": "stream",
          "name": "stdout",
          "text": [
            "[['A'], ['A'], ['A', 'C'], ['A', 'C', 'F'], ['A', 'B', 'D', 'F'], ['A', 'C', 'E', 'F', 'D'], ['A', 'B', 'D', 'F', 'E', 'C'], ['A', 'B', 'D', 'F', 'E', 'C'], ['A', 'B', 'D', 'F', 'E', 'C'], ['A', 'B', 'D', 'F', 'C', 'E'], ['B'], ['B'], ['B', 'A'], ['B', 'D', 'F'], ['B', 'D', 'F', 'E'], ['B', 'D', 'F', 'E', 'C'], ['B', 'A', 'C', 'E', 'F', 'D'], ['B', 'A', 'C', 'E', 'F', 'D'], ['B', 'D', 'F', 'C', 'A'], ['B', 'D', 'F', 'E', 'C', 'A'], ['C'], ['C'], ['C', 'E'], ['C', 'A', 'B'], ['C', 'F', 'E'], ['C', 'F', 'D', 'B', 'A'], ['C', 'F', 'E'], ['C', 'E', 'F', 'D', 'B', 'A'], ['C', 'E', 'F', 'D', 'B', 'A'], ['C', 'F', 'D', 'B', 'A'], ['D'], ['D'], ['D', 'B'], ['D', 'F', 'C'], ['D', 'B', 'A', 'C'], ['D', 'B', 'A', 'C', 'E'], ['D', 'B', 'A', 'C', 'E', 'F'], ['D', 'B', 'A', 'C', 'F', 'E'], ['D', 'B', 'A', 'C', 'E', 'F'], ['D', 'F', 'C', 'E'], ['E'], ['E'], ['E', 'C'], ['E', 'F', 'C'], ['E', 'F', 'C', 'A'], ['E', 'F', 'C', 'A', 'B'], ['E', 'C', 'F', 'D', 'B', 'A'], ['E', 'C', 'F', 'D', 'B', 'A'], ['E', 'C', 'A', 'B', 'D', 'F'], ['E', 'F', 'C', 'A', 'B', 'D'], ['F'], ['F'], ['F', 'C'], ['F', 'E', 'C'], ['F', 'E', 'C', 'A'], ['F', 'E', 'C', 'A', 'B'], ['F', 'C', 'A', 'B', 'D'], ['F', 'D', 'B', 'A', 'C', 'E'], ['F', 'C', 'A', 'B', 'D'], ['F', 'D', 'B', 'A', 'C', 'E']]\n"
          ]
        },
        {
          "output_type": "stream",
          "name": "stderr",
          "text": [
            "\n"
          ]
        },
        {
          "output_type": "execute_result",
          "data": {
            "text/plain": [
              "60"
            ]
          },
          "metadata": {},
          "execution_count": 21
        }
      ]
    }
  ]
}